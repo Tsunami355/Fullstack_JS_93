{
  "cells": [
    {
      "cell_type": "markdown",
      "metadata": {
        "id": "-89_Z_je0cfL"
      },
      "source": [
        "# Assignment 4.1\n",
        "\n",
        "> Replace all TODOs with your code.\n",
        ">\n",
        "> Do not change any other code and do not add/remove cells!"
      ]
    },
    {
      "cell_type": "markdown",
      "metadata": {
        "id": "w6E-GxTB0j4M"
      },
      "source": [
        "## Sets"
      ]
    },
    {
      "cell_type": "markdown",
      "metadata": {
        "id": "iEwuf_DP0cfM"
      },
      "source": [
        "### Task 1\n",
        "\n",
        "Create an empty set called 'my_set'."
      ]
    },
    {
      "cell_type": "code",
      "execution_count": null,
      "metadata": {
        "id": "IWVOCWxx0cfM",
        "tags": [
          "task_1"
        ],
        "colab": {
          "base_uri": "https://localhost:8080/"
        },
        "outputId": "9d71566e-cfd0-45ed-e0b1-78bbbfdb061e"
      },
      "outputs": [
        {
          "output_type": "stream",
          "name": "stdout",
          "text": [
            "set()\n"
          ]
        }
      ],
      "source": [
        "my_set = set()\n",
        "\n",
        "print(my_set)  # should print set()"
      ]
    },
    {
      "cell_type": "markdown",
      "metadata": {
        "id": "2z8HqsaK0cfN"
      },
      "source": [
        "### Task 2\n",
        "\n",
        "Let's turn a given sentence into a set of words.\n"
      ]
    },
    {
      "cell_type": "code",
      "execution_count": null,
      "metadata": {
        "id": "kva_9ycA0cfN",
        "tags": [
          "task_2"
        ],
        "colab": {
          "base_uri": "https://localhost:8080/"
        },
        "outputId": "b81df689-e0a7-42ff-f35c-0bccb8f704b0"
      },
      "outputs": [
        {
          "output_type": "stream",
          "name": "stdout",
          "text": [
            "{'acd', 'cba', 'abc'}\n"
          ]
        }
      ],
      "source": [
        "sentence = \"abc cba acd abc\"\n",
        "\n",
        "words = set(sentence.split(' '))\n",
        "\n",
        "print(words)  # should be {'acd', 'cba', 'abc'} or in other order"
      ]
    },
    {
      "cell_type": "markdown",
      "metadata": {
        "id": "IqjW7SGS0cfN"
      },
      "source": [
        "### Task 3\n",
        "\n",
        "Now, let's remove from `words` all the words that are present in `sentence2`."
      ]
    },
    {
      "cell_type": "code",
      "execution_count": 4,
      "metadata": {
        "id": "p83RQvA40cfN",
        "tags": [
          "task_3"
        ],
        "colab": {
          "base_uri": "https://localhost:8080/"
        },
        "outputId": "bdaf4068-1325-491c-a905-d4c69381d73b"
      },
      "outputs": [
        {
          "output_type": "stream",
          "name": "stdout",
          "text": [
            "{'baa', 'cba'}\n"
          ]
        }
      ],
      "source": [
        "sentence2 = 'cba baa acc'\n",
        "\n",
        "words = set(sentence2.split())\n",
        "words.remove('acc')\n",
        "\n",
        "print(words) # should print {'acd', 'abc'} or {'abc', 'acd'}"
      ]
    },
    {
      "cell_type": "markdown",
      "metadata": {
        "id": "fceBNTpUnip6"
      },
      "source": [
        "### Task 4\n",
        "\n",
        "Let's now play around with statistics and probability!\n",
        "\n",
        "Generate `N` random numbers in the range `[1, N]` and keep track of a percent of unique numbers in the result.\n",
        "Play around with different values of `N`; how does it affect the percentage of unique numbers? How do you think why?"
      ]
    },
    {
      "cell_type": "code",
      "execution_count": null,
      "metadata": {
        "id": "VsoALrbBnsjs",
        "tags": [
          "task_4"
        ],
        "colab": {
          "base_uri": "https://localhost:8080/"
        },
        "outputId": "a7c842db-9cd2-48f7-cc1c-f94aa470da9d"
      },
      "outputs": [
        {
          "output_type": "stream",
          "name": "stdout",
          "text": [
            "Процент уникальных чисел при N = 10000000: 63.21%\n"
          ]
        }
      ],
      "source": [
        "from random import randint\n",
        "\n",
        "N = 10000000\n",
        "\n",
        "def generate_unique_numbers(N):\n",
        "  unique_numbers = set()\n",
        "  for number in range(N):\n",
        "        random_number = randint(1, N)\n",
        "        unique_numbers.add(random_number)\n",
        "\n",
        "  percent_unique = (len(unique_numbers) / N) * 100\n",
        "  return percent_unique\n",
        "\n",
        "\n",
        "percent_unique_numbers = generate_unique_numbers(N)\n",
        "print(f\"Процент уникальных чисел при N = {N}: {percent_unique_numbers:.2f}%\")"
      ]
    },
    {
      "cell_type": "markdown",
      "metadata": {
        "id": "i97oe-zR9xP_"
      },
      "source": [
        "For math geeks: if you set rather big `N`, you see that the percentage is slowly approaching ~63.21. It is a modification of a [Birthday problem](https://en.wikipedia.org/wiki/Birthday_problem), but a simpler and more relevant explanation is [here](https://math.stackexchange.com/questions/5775/how-many-bins-do-random-numbers-fill).\n"
      ]
    },
    {
      "cell_type": "markdown",
      "metadata": {
        "id": "MJ03abgc9xQA"
      },
      "source": [
        "## Dictionaries"
      ]
    },
    {
      "cell_type": "markdown",
      "metadata": {
        "id": "NYrbhOY19xQA"
      },
      "source": [
        "### Task 5\n",
        "\n",
        "You are given a matrix `m`. Return a distinct list containing all the values that are present in at least `n` rows.\n",
        "\n",
        "Hint: there can be duplicates in rows; perhaps we would want to eliminate them - how?"
      ]
    },
    {
      "cell_type": "code",
      "execution_count": 5,
      "metadata": {
        "id": "tBxoArVb9xQA",
        "colab": {
          "base_uri": "https://localhost:8080/"
        },
        "outputId": "78e05ed6-1a38-4901-c922-3fd81cb5865a"
      },
      "outputs": [
        {
          "output_type": "stream",
          "name": "stdout",
          "text": [
            "[1, 2, 7]\n"
          ]
        }
      ],
      "source": [
        "m = [\n",
        "    [1, 1, 2, 3],\n",
        "    [1, 2, 6, 7],\n",
        "    [1, 7, 9, 9]\n",
        "]\n",
        "\n",
        "n = 2\n",
        "res = []\n",
        "\n",
        "for i in range(len(m) - 1):\n",
        "\n",
        "  for part in m[i]:\n",
        "    if part  in m[i + 1]:\n",
        "      res.append(part)\n",
        "\n",
        "res = list(set(res))\n",
        "print(res)  # should print [1, 2, 7]"
      ]
    }
  ],
  "metadata": {
    "colab": {
      "provenance": [],
      "toc_visible": true
    },
    "kernelspec": {
      "display_name": "venv",
      "language": "python",
      "name": "python3"
    },
    "language_info": {
      "codemirror_mode": {
        "name": "ipython",
        "version": 3
      },
      "file_extension": ".py",
      "mimetype": "text/x-python",
      "name": "python",
      "nbconvert_exporter": "python",
      "pygments_lexer": "ipython3",
      "version": "3.11.5"
    },
    "orig_nbformat": 4
  },
  "nbformat": 4,
  "nbformat_minor": 0
}